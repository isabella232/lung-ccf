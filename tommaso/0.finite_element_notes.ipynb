{
 "cells": [
  {
   "cell_type": "markdown",
   "metadata": {},
   "source": [
    "# Note for finite element integration of Poisson PDE"
   ]
  },
  {
   "cell_type": "markdown",
   "metadata": {},
   "source": [
    "### Poisson boundary value problem\n",
    "\n",
    "$$\n",
    "    -  \\nabla^2  u(\\mathbf{x}) = f( \\mathbf{x} ), \\quad \\mathbf x \\in \\Omega, \\\\\n",
    "    u(\\mathbf x) = u_D(\\mathbf x), \\quad \\mathbf x \\in \\partial \\Omega.\n",
    "$$\n",
    "\n",
    "- $f$ is the source. \n",
    "- $\\Omega$ the computational domain."
   ]
  },
  {
   "cell_type": "markdown",
   "metadata": {},
   "source": [
    "### Equivalent variational problem\n",
    "\n",
    "$$\n",
    "    a(u, v) = \\int_\\Omega d\\mathbf x\\, \\nabla u \\cdot \\nabla v = \\int_{\\partial \\Omega} d\\mathbf x\\, f v = L(v)\n",
    "$$\n",
    "\n",
    "- $a(u, v)$ is the _bilinear form_ and $L(v)$ is the _linear form_.\n",
    "- $v \\in \\hat V$ is any function that lies in a _test space_.\n",
    "- the solution $u \\in V$ lies in _trial space_.\n",
    "\n",
    "#### Trial and test spaces\n",
    "\n",
    "- $u$ lives in a trial space, meaning that:\n",
    "$$\n",
    "    V = \\{v | v = u_D\\, \\text{on}\\, \\partial\\Omega\\} \\\\\n",
    "$$\n",
    "\n",
    "- $v$ lives in a test space. We required the following BCE:\n",
    "$$\n",
    "    \\hat V = \\{v | v = 0\\, \\text{on}\\, \\partial\\Omega\\}\n",
    "$$"
   ]
  }
 ],
 "metadata": {
  "kernelspec": {
   "display_name": "Python 3",
   "language": "python",
   "name": "python3"
  },
  "language_info": {
   "codemirror_mode": {
    "name": "ipython",
    "version": 3
   },
   "file_extension": ".py",
   "mimetype": "text/x-python",
   "name": "python",
   "nbconvert_exporter": "python",
   "pygments_lexer": "ipython3",
   "version": "3.7.3"
  }
 },
 "nbformat": 4,
 "nbformat_minor": 4
}
