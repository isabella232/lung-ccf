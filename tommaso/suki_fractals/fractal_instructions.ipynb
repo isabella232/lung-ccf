{
 "cells": [
  {
   "cell_type": "markdown",
   "metadata": {},
   "source": [
    "# HowTo generate a fractal w corresponding skeleton"
   ]
  },
  {
   "cell_type": "code",
   "execution_count": 11,
   "metadata": {},
   "outputs": [],
   "source": [
    "from suki_fractal import *\n",
    "import nrrd\n",
    "import ipyvolume as ipv\n",
    "# from mayavi import mlab"
   ]
  },
  {
   "cell_type": "markdown",
   "metadata": {},
   "source": [
    "Generate fractal with certain parameters."
   ]
  },
  {
   "cell_type": "code",
   "execution_count": 12,
   "metadata": {},
   "outputs": [
    {
     "name": "stderr",
     "output_type": "stream",
     "text": [
      "INFO:root:Drawing branch on plane [1, 0, 0].\n",
      "100%|██████████| 20/20 [00:00<00:00, 51.54it/s]\n",
      "100%|██████████| 27/27 [00:00<00:00, 162.79it/s]\n",
      "100%|██████████| 34/34 [00:00<00:00, 108.45it/s]\n",
      "INFO:root:Drawing branch on plane [0.0, -0.76, -0.65].\n",
      "100%|██████████| 14/14 [00:00<00:00, 163.84it/s]\n",
      "100%|██████████| 19/19 [00:00<00:00, 391.05it/s]\n",
      "100%|██████████| 24/24 [00:00<00:00, 253.02it/s]\n",
      "INFO:root:Drawing branch on plane [-0.76, 0.43, -0.49].\n",
      "100%|██████████| 10/10 [00:00<00:00, 364.90it/s]\n",
      "100%|██████████| 14/14 [00:00<00:00, 755.90it/s]\n",
      "100%|██████████| 16/16 [00:00<00:00, 690.55it/s]\n",
      "INFO:root:Drawing branch on plane [0.43, 0.9, 0.12].\n",
      "100%|██████████| 6/6 [00:00<00:00, 786.04it/s]\n",
      "100%|██████████| 10/10 [00:00<00:00, 1639.87it/s]\n",
      "100%|██████████| 12/12 [00:00<00:00, 1109.16it/s]\n",
      "INFO:root:Drawing branch on plane [0.9, -0.4, -0.19].\n",
      "100%|██████████| 5/5 [00:00<00:00, 1648.06it/s]\n",
      "100%|██████████| 7/7 [00:00<00:00, 2324.63it/s]\n",
      "100%|██████████| 7/7 [00:00<00:00, 1898.98it/s]\n",
      "INFO:root:Maximum generation achieved.\n",
      "INFO:root:Maximum generation achieved.\n",
      "INFO:root:Drawing branch on plane [0.42, -0.31, 0.85].\n",
      "100%|██████████| 6/6 [00:00<00:00, 869.05it/s]\n",
      "100%|██████████| 7/7 [00:00<00:00, 1968.63it/s]\n",
      "100%|██████████| 9/9 [00:00<00:00, 2218.56it/s]\n",
      "INFO:root:Drawing branch on plane [0.2, -0.88, -0.42].\n",
      "100%|██████████| 4/4 [00:00<00:00, 1963.63it/s]\n",
      "100%|██████████| 6/6 [00:00<00:00, 4141.16it/s]\n",
      "100%|██████████| 5/5 [00:00<00:00, 2028.39it/s]\n",
      "INFO:root:Drawing branch on plane [0.26, 0.46, -0.85].\n",
      "100%|██████████| 3/3 [00:00<00:00, 4725.09it/s]\n",
      "INFO:root:Branch reached end of volume.\n",
      "INFO:root:Drawing branch on plane [-0.8, 0.1, -0.59].\n",
      "100%|██████████| 3/3 [00:00<00:00, 2295.31it/s]\n",
      "100%|██████████| 3/3 [00:00<00:00, 3351.87it/s]\n",
      "100%|██████████| 4/4 [00:00<00:00, 2690.38it/s]\n",
      "INFO:root:Drawing branch on plane [0.22, 0.97, -0.13].\n",
      "100%|██████████| 2/2 [00:00<00:00, 1208.38it/s]\n",
      "INFO:root:Branch reached end of volume.\n",
      "INFO:root:Drawing branch on plane [-0.45, 0.55, 0.7].\n",
      "100%|██████████| 2/2 [00:00<00:00, 3658.35it/s]\n",
      "INFO:root:Branch reached end of volume.\n",
      "INFO:root:Drawing branch on plane [-0.76, -0.63, 0.14].\n",
      "100%|██████████| 5/5 [00:00<00:00, 1562.47it/s]\n",
      "100%|██████████| 7/7 [00:00<00:00, 1836.27it/s]\n",
      "100%|██████████| 8/8 [00:00<00:00, 1549.79it/s]\n",
      "INFO:root:Drawing branch on plane [0.0, -0.23, -0.97].\n",
      "100%|██████████| 4/4 [00:00<00:00, 3273.60it/s]\n",
      "100%|██████████| 6/6 [00:00<00:00, 2605.16it/s]\n",
      "100%|██████████| 6/6 [00:00<00:00, 1624.65it/s]\n",
      "INFO:root:Branch reached end of volume.\n",
      "INFO:root:Drawing branch on plane [-0.61, 0.62, -0.5].\n",
      "100%|██████████| 3/3 [00:00<00:00, 1554.41it/s]\n",
      "100%|██████████| 6/6 [00:00<00:00, 4045.95it/s]\n",
      "100%|██████████| 5/5 [00:00<00:00, 3837.42it/s]\n",
      "INFO:root:Branch reached end of volume.\n",
      "INFO:root:Drawing branch on plane [-0.32, 0.42, 0.85].\n",
      "100%|██████████| 7/7 [00:00<00:00, 540.24it/s]\n",
      "100%|██████████| 12/12 [00:00<00:00, 2416.54it/s]\n",
      "INFO:root:Branch reached end of volume.\n",
      "INFO:root:Drawing branch on plane [-0.87, -0.32, 0.37].\n",
      "100%|██████████| 12/12 [00:00<00:00, 121.26it/s]\n",
      "100%|██████████| 18/18 [00:00<00:00, 563.30it/s]\n",
      "100%|██████████| 19/19 [00:00<00:00, 378.75it/s]\n",
      "INFO:root:Branch reached end of volume.\n",
      "INFO:root:Drawing branch on plane [0.0, -0.87, 0.49].\n",
      "100%|██████████| 17/17 [00:00<00:00, 101.51it/s]\n",
      "100%|██████████| 24/24 [00:00<00:00, 236.79it/s]\n",
      "100%|██████████| 27/27 [00:00<00:00, 160.11it/s]\n",
      "INFO:root:Drawing branch on plane [-0.76, -0.32, -0.57].\n",
      "100%|██████████| 12/12 [00:00<00:00, 211.52it/s]\n",
      "100%|██████████| 17/17 [00:00<00:00, 805.80it/s]\n",
      "100%|██████████| 19/19 [00:00<00:00, 332.29it/s]\n",
      "INFO:root:Drawing branch on plane [0.43, 0.42, -0.8].\n",
      "100%|██████████| 9/9 [00:00<00:00, 520.74it/s]\n",
      "100%|██████████| 11/11 [00:00<00:00, 2031.05it/s]\n",
      "INFO:root:Branch reached end of volume.\n",
      "INFO:root:Drawing branch on plane [-0.32, 0.94, -0.1].\n",
      "100%|██████████| 10/10 [00:00<00:00, 261.13it/s]\n",
      "100%|██████████| 14/14 [00:00<00:00, 2161.77it/s]\n",
      "INFO:root:Branch reached end of volume.\n",
      "INFO:root:Drawing branch on plane [-0.87, 0.24, 0.43].\n",
      "100%|██████████| 14/14 [00:00<00:00, 151.33it/s]\n",
      "100%|██████████| 19/19 [00:00<00:00, 392.89it/s]\n",
      "100%|██████████| 24/24 [00:00<00:00, 254.33it/s]\n",
      "INFO:root:Branch reached end of volume.\n"
     ]
    }
   ],
   "source": [
    "sf = SukiFractal(n=2.8, \n",
    "                 r=.4, \n",
    "                 d0=20, \n",
    "                 max_generation=5, \n",
    "                 volume_size=(128, 128, 128),\n",
    "    )"
   ]
  },
  {
   "cell_type": "markdown",
   "metadata": {},
   "source": [
    "Display volume"
   ]
  },
  {
   "cell_type": "code",
   "execution_count": 13,
   "metadata": {},
   "outputs": [
    {
     "data": {
      "application/vnd.jupyter.widget-view+json": {
       "model_id": "33fe9c23ffd44c669512d76bfe697fa1",
       "version_major": 2,
       "version_minor": 0
      },
      "text/plain": [
       "VBox(children=(VBox(children=(HBox(children=(Label(value='levels:'), FloatSlider(value=0.1, max=1.0, step=0.00…"
      ]
     },
     "metadata": {},
     "output_type": "display_data"
    }
   ],
   "source": [
    "ipv.quickvolshow(sf.volume.voxels)"
   ]
  },
  {
   "cell_type": "markdown",
   "metadata": {},
   "source": [
    "Dump skeleton in XML format"
   ]
  },
  {
   "cell_type": "code",
   "execution_count": 14,
   "metadata": {},
   "outputs": [
    {
     "data": {
      "text/plain": [
       "b'<root generation_number=\"0\" x=\"64\" y=\"64\" z=\"118\"><node generation_number=\"1\" x=\"64\" y=\"64\" z=\"98\"><node generation_number=\"2\" x=\"64\" y=\"91\" z=\"66\"><node generation_number=\"3\" x=\"84\" y=\"106\" z=\"49\"><node generation_number=\"4\" x=\"94\" y=\"103\" z=\"31\"><node generation_number=\"5\" x=\"92\" y=\"106\" z=\"16\"><node generation_number=\"6\" x=\"109\" y=\"97\" z=\"22\"><node generation_number=\"7\" x=\"120\" y=\"101\" z=\"19\"><node generation_number=\"8\" x=\"125\" y=\"105\" z=\"13\"><node generation_number=\"9\" x=\"116\" y=\"86\" z=\"14\"><node generation_number=\"10\" x=\"124\" y=\"77\" z=\"16\"><node generation_number=\"11\" x=\"119\" y=\"80\" z=\"4\"><node generation_number=\"12\" x=\"98\" y=\"125\" z=\"45\"><node generation_number=\"13\" x=\"46\" y=\"112\" z=\"42\"><node generation_number=\"14\" x=\"64\" y=\"39\" z=\"53\"><node generation_number=\"15\" x=\"88\" y=\"26\" z=\"29\"><node generation_number=\"16\" x=\"101\" y=\"3\" z=\"24\"><node generation_number=\"17\" x=\"105\" y=\"29\" z=\"5\"><node generation_number=\"18\" x=\"43\" y=\"21\" z=\"21\" /></node></node></node></node></node></node></node></node></node></node></node></node></node></node></node></node></node></root>'"
      ]
     },
     "execution_count": 14,
     "metadata": {},
     "output_type": "execute_result"
    }
   ],
   "source": [
    "skeleton_root = sf.skeleton.getroot()\n",
    "skeleton_xml = ET.tostring(skeleton_root)\n",
    "skeleton_xml"
   ]
  },
  {
   "cell_type": "markdown",
   "metadata": {},
   "source": [
    "- Loop only first generation children of skeleton root. \n",
    "- Note that generation number is retained in attributes."
   ]
  },
  {
   "cell_type": "code",
   "execution_count": 15,
   "metadata": {},
   "outputs": [
    {
     "name": "stdout",
     "output_type": "stream",
     "text": [
      "node {'generation_number': '1', 'x': '64', 'y': '64', 'z': '98'}\n"
     ]
    }
   ],
   "source": [
    "skeleton_root = ET.fromstring(skeleton_xml)\n",
    "for child in skeleton_root:\n",
    "    print(child.tag, child.attrib)"
   ]
  },
  {
   "cell_type": "markdown",
   "metadata": {},
   "source": [
    "Loop all children nodes"
   ]
  },
  {
   "cell_type": "code",
   "execution_count": 16,
   "metadata": {},
   "outputs": [
    {
     "name": "stdout",
     "output_type": "stream",
     "text": [
      "Found 19 nodes.\n"
     ]
    }
   ],
   "source": [
    "skeleton_nodes = []\n",
    "for child in skeleton_root.iter():\n",
    "    skeleton_nodes.append(child.attrib)\n",
    "print('Found {} nodes.'.format(len(skeleton_nodes)))"
   ]
  },
  {
   "cell_type": "code",
   "execution_count": 17,
   "metadata": {},
   "outputs": [],
   "source": [
    "xs = []\n",
    "ys = []\n",
    "zs = []\n",
    "for node in skeleton_nodes:\n",
    "    xs.append(int(node['x']))\n",
    "    ys.append(int(node['y']))\n",
    "    zs.append(int(node['z']))"
   ]
  },
  {
   "cell_type": "code",
   "execution_count": 18,
   "metadata": {},
   "outputs": [],
   "source": [
    "def show_figure(data, xs, ys, zs):\n",
    "    sphere_size = 5\n",
    "    # Make sure to convert list of coordinates to\n",
    "    # _float_ array otherwise it won't work.\n",
    "    xs = np.asarray(xs, dtype='float32')\n",
    "    ys = np.asarray(ys, dtype='float32')\n",
    "    zs = np.asarray(zs, dtype='float32')\n",
    "    ipv.figure()\n",
    "    ipv.volshow(data)\n",
    "    ipv.scatter(zs, ys, xs, marker='sphere', color='yellow', size=sphere_size)\n",
    "    ipv.xyzlim(0, 128)\n",
    "    ipv.show()"
   ]
  },
  {
   "cell_type": "code",
   "execution_count": 19,
   "metadata": {},
   "outputs": [
    {
     "data": {
      "application/vnd.jupyter.widget-view+json": {
       "model_id": "479c3b1a7f6b4c4da67d98b843adc3b4",
       "version_major": 2,
       "version_minor": 0
      },
      "text/plain": [
       "VBox(children=(VBox(children=(HBox(children=(Label(value='levels:'), FloatSlider(value=0.1, max=1.0, step=0.00…"
      ]
     },
     "metadata": {},
     "output_type": "display_data"
    }
   ],
   "source": [
    "show_figure(sf.volume.voxels, zs, ys, xs)"
   ]
  },
  {
   "cell_type": "code",
   "execution_count": null,
   "metadata": {},
   "outputs": [],
   "source": []
  }
 ],
 "metadata": {
  "kernelspec": {
   "display_name": "Python 3",
   "language": "python",
   "name": "python3"
  },
  "language_info": {
   "codemirror_mode": {
    "name": "ipython",
    "version": 3
   },
   "file_extension": ".py",
   "mimetype": "text/x-python",
   "name": "python",
   "nbconvert_exporter": "python",
   "pygments_lexer": "ipython3",
   "version": "3.7.3"
  }
 },
 "nbformat": 4,
 "nbformat_minor": 2
}
