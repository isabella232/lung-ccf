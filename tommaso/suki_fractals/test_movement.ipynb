{
 "cells": [
  {
   "cell_type": "markdown",
   "metadata": {},
   "source": [
    "# Test `lung_fractals` library \n",
    "- All angles in `deg`.\n",
    "- `x, y, z` are rounded to closest integer."
   ]
  },
  {
   "cell_type": "code",
   "execution_count": 1,
   "metadata": {},
   "outputs": [
    {
     "name": "stderr",
     "output_type": "stream",
     "text": [
      "Using TensorFlow backend.\n"
     ]
    }
   ],
   "source": [
    "from tlib.lung import *"
   ]
  },
  {
   "cell_type": "markdown",
   "metadata": {},
   "source": [
    "\n",
    "***\n",
    "### Test `Cursor` class moving system"
   ]
  },
  {
   "cell_type": "markdown",
   "metadata": {},
   "source": [
    "Position cursor on z axis facing down"
   ]
  },
  {
   "cell_type": "code",
   "execution_count": 2,
   "metadata": {},
   "outputs": [
    {
     "data": {
      "text/plain": [
       "Position: x: 0 y: 0 z: 20\n",
       "Facing angles:  azimuth: 90 altitude: 180\n",
       "Facing versor: (0.0, 0.0, -1.0)\n",
       "Lying plane versor :(1, 0, 0)"
      ]
     },
     "execution_count": 2,
     "metadata": {},
     "output_type": "execute_result"
    }
   ],
   "source": [
    "cr = Cursor(cursor_position=(0, 0, 20), azimuth=90, altitude=180, plane_versor=(1,0,0))\n",
    "cr"
   ]
  },
  {
   "cell_type": "markdown",
   "metadata": {},
   "source": [
    "Turn facing direction right by 90 deg so that now is facing parallel to y"
   ]
  },
  {
   "cell_type": "code",
   "execution_count": 3,
   "metadata": {},
   "outputs": [
    {
     "data": {
      "text/plain": [
       "Position: x: 0 y: 0 z: 20\n",
       "Facing angles:  azimuth: 90.0 altitude: 90.0\n",
       "Facing versor: (0.0, 1.0, 0.0)\n",
       "Lying plane versor :(1, 0, 0)"
      ]
     },
     "execution_count": 3,
     "metadata": {},
     "output_type": "execute_result"
    }
   ],
   "source": [
    "cr.turn(90)\n",
    "cr"
   ]
  },
  {
   "cell_type": "markdown",
   "metadata": {},
   "source": [
    "Move cursor forward by 30 along y axis"
   ]
  },
  {
   "cell_type": "code",
   "execution_count": 5,
   "metadata": {},
   "outputs": [
    {
     "data": {
      "text/plain": [
       "Position: x: 0 y: 30 z: 20\n",
       "Facing angles:  azimuth: 90.0 altitude: 90.0\n",
       "Facing versor: (0.0, 1.0, 0.0)\n",
       "Lying plane versor :(1, 0, 0)"
      ]
     },
     "execution_count": 5,
     "metadata": {},
     "output_type": "execute_result"
    }
   ],
   "source": [
    "cr.move_forward(30)\n",
    "cr"
   ]
  },
  {
   "cell_type": "markdown",
   "metadata": {},
   "source": [
    "Rotate lying plane so that now is `(y, x)` plane"
   ]
  },
  {
   "cell_type": "code",
   "execution_count": 6,
   "metadata": {},
   "outputs": [
    {
     "data": {
      "text/plain": [
       "Position: x: 0 y: 30 z: 20\n",
       "Facing angles:  azimuth: 90.0 altitude: 90.0\n",
       "Facing versor: (0.0, 1.0, 0.0)\n",
       "Lying plane versor :(0.0, 0.0, -1.0)"
      ]
     },
     "execution_count": 6,
     "metadata": {},
     "output_type": "execute_result"
    }
   ],
   "source": [
    "cr.rotate_plane(90)\n",
    "cr"
   ]
  },
  {
   "cell_type": "markdown",
   "metadata": {},
   "source": [
    "Turn left by 90 so that cursor faces -x axis"
   ]
  },
  {
   "cell_type": "code",
   "execution_count": 7,
   "metadata": {},
   "outputs": [
    {
     "data": {
      "text/plain": [
       "Position: x: 0 y: 30 z: 20\n",
       "Facing angles:  azimuth: 180.0 altitude: 90.0\n",
       "Facing versor: (-1.0, 0.0, 0.0)\n",
       "Lying plane versor :(0.0, 0.0, -1.0)"
      ]
     },
     "execution_count": 7,
     "metadata": {},
     "output_type": "execute_result"
    }
   ],
   "source": [
    "cr.turn(-90)\n",
    "cr"
   ]
  },
  {
   "cell_type": "code",
   "execution_count": 2,
   "metadata": {},
   "outputs": [],
   "source": [
    "# c = Cursor(x=0, y=0, z=0, altitude=90, azimuth=90)\n",
    "\n",
    "# c.get_cartesian_coordinates()\n",
    "\n",
    "\n",
    "\n",
    "#         # add node to skeleton and update skeleton position\n",
    "#         self.current_skeleton_node = SkeletonNode(*end_coord, parent_node=self.current_skeleton_node)\n",
    "#         # draw the line on canvas, default thickness value is 0 pixels\n",
    "#         self.volume.draw_line(start_coord, end_coord, thickness_radius)"
   ]
  },
  {
   "cell_type": "markdown",
   "metadata": {
    "toc-hr-collapsed": true
   },
   "source": [
    "\n",
    "***\n",
    "## Other tests\n",
    "### Test `Direction` class moving features"
   ]
  },
  {
   "cell_type": "code",
   "execution_count": 1,
   "metadata": {},
   "outputs": [
    {
     "name": "stderr",
     "output_type": "stream",
     "text": [
      "Using TensorFlow backend.\n"
     ]
    }
   ],
   "source": [
    "from tlib.lung import *"
   ]
  },
  {
   "cell_type": "markdown",
   "metadata": {},
   "source": [
    "Position cursor on z axis facing down"
   ]
  },
  {
   "cell_type": "code",
   "execution_count": 2,
   "metadata": {},
   "outputs": [
    {
     "data": {
      "text/plain": [
       "Position: x: 0 y: 0 z: 20\n",
       "Facing angles:  azimuth: 90 altitude: 180\n",
       "Facing versor: (0.0, 0.0, -1.0)\n",
       "Lying plane versor :(1, 0, 0)"
      ]
     },
     "execution_count": 2,
     "metadata": {},
     "output_type": "execute_result"
    }
   ],
   "source": [
    "pt = Direction(x=0, y=0, z=20, azimuth=90, altitude=180)\n",
    "pt"
   ]
  },
  {
   "cell_type": "markdown",
   "metadata": {},
   "source": [
    "Turn facing direction right by 90 deg so that now is facing parallel to y"
   ]
  },
  {
   "cell_type": "code",
   "execution_count": 3,
   "metadata": {},
   "outputs": [
    {
     "data": {
      "text/plain": [
       "Position: x: 0 y: 0 z: 20\n",
       "Facing angles:  azimuth: 90.0 altitude: 90.0\n",
       "Facing versor: (0.0, 1.0, 0.0)\n",
       "Lying plane versor :(1, 0, 0)"
      ]
     },
     "execution_count": 3,
     "metadata": {},
     "output_type": "execute_result"
    }
   ],
   "source": [
    "pt.turn(90)\n",
    "pt"
   ]
  },
  {
   "cell_type": "markdown",
   "metadata": {},
   "source": [
    "Move cursor forward by 30 along y axis"
   ]
  },
  {
   "cell_type": "code",
   "execution_count": 4,
   "metadata": {},
   "outputs": [
    {
     "data": {
      "text/plain": [
       "Position: x: 0 y: 30 z: 20\n",
       "Facing angles:  azimuth: 90.0 altitude: 90.0\n",
       "Facing versor: (0.0, 1.0, 0.0)\n",
       "Lying plane versor :(1, 0, 0)"
      ]
     },
     "execution_count": 4,
     "metadata": {},
     "output_type": "execute_result"
    }
   ],
   "source": [
    "pt.move_forward(30)\n",
    "pt"
   ]
  },
  {
   "cell_type": "markdown",
   "metadata": {},
   "source": [
    "Rotate lying plane so that now is `(y, x)` plane"
   ]
  },
  {
   "cell_type": "code",
   "execution_count": 5,
   "metadata": {},
   "outputs": [
    {
     "data": {
      "text/plain": [
       "Position: x: 0 y: 30 z: 20\n",
       "Facing angles:  azimuth: 90.0 altitude: 90.0\n",
       "Facing versor: (0.0, 1.0, 0.0)\n",
       "Lying plane versor :(0.0, 0.0, -1.0)"
      ]
     },
     "execution_count": 5,
     "metadata": {},
     "output_type": "execute_result"
    }
   ],
   "source": [
    "pt.rotate_plane(90)\n",
    "pt"
   ]
  },
  {
   "cell_type": "markdown",
   "metadata": {},
   "source": [
    "Turn left by 90 so that cursor faces -x axis"
   ]
  },
  {
   "cell_type": "code",
   "execution_count": 6,
   "metadata": {},
   "outputs": [
    {
     "data": {
      "text/plain": [
       "Position: x: 0 y: 30 z: 20\n",
       "Facing angles:  azimuth: 180.0 altitude: 90.0\n",
       "Facing versor: (-1.0, 0.0, 0.0)\n",
       "Lying plane versor :(0.0, 0.0, -1.0)"
      ]
     },
     "execution_count": 6,
     "metadata": {},
     "output_type": "execute_result"
    }
   ],
   "source": [
    "pt.turn(-90)\n",
    "pt"
   ]
  },
  {
   "cell_type": "markdown",
   "metadata": {},
   "source": [
    "#### Test `move_forward`"
   ]
  },
  {
   "cell_type": "code",
   "execution_count": 2,
   "metadata": {},
   "outputs": [],
   "source": [
    "pt = Direction(x=0, y=0, z=20, azimuth=90, altitude=180)"
   ]
  },
  {
   "cell_type": "code",
   "execution_count": 3,
   "metadata": {},
   "outputs": [
    {
     "data": {
      "text/plain": [
       "{'altitude': 180, 'azimuth': 90}"
      ]
     },
     "execution_count": 3,
     "metadata": {},
     "output_type": "execute_result"
    }
   ],
   "source": [
    "pt.get_direction()"
   ]
  },
  {
   "cell_type": "code",
   "execution_count": 4,
   "metadata": {},
   "outputs": [
    {
     "data": {
      "text/plain": [
       "(1, 0, 0)"
      ]
     },
     "execution_count": 4,
     "metadata": {},
     "output_type": "execute_result"
    }
   ],
   "source": [
    "pt.plane_versor"
   ]
  },
  {
   "cell_type": "code",
   "execution_count": 5,
   "metadata": {},
   "outputs": [],
   "source": [
    "pt.turn(90)"
   ]
  },
  {
   "cell_type": "code",
   "execution_count": 6,
   "metadata": {},
   "outputs": [
    {
     "data": {
      "text/plain": [
       "{'altitude': 0, 'azimuth': 0}"
      ]
     },
     "execution_count": 6,
     "metadata": {},
     "output_type": "execute_result"
    }
   ],
   "source": [
    "pt.get_direction()"
   ]
  },
  {
   "cell_type": "code",
   "execution_count": null,
   "metadata": {},
   "outputs": [],
   "source": [
    "pt.facing_versor"
   ]
  },
  {
   "cell_type": "code",
   "execution_count": 4,
   "metadata": {},
   "outputs": [],
   "source": [
    "pt.move_forward(10)"
   ]
  },
  {
   "cell_type": "code",
   "execution_count": 5,
   "metadata": {},
   "outputs": [
    {
     "data": {
      "text/plain": [
       "{'x': 0, 'y': 0, 'z': 10}"
      ]
     },
     "execution_count": 5,
     "metadata": {},
     "output_type": "execute_result"
    }
   ],
   "source": [
    "pt.get_cartesian_coordinates()"
   ]
  },
  {
   "cell_type": "code",
   "execution_count": 6,
   "metadata": {},
   "outputs": [],
   "source": [
    "pt.reverse_direction()"
   ]
  },
  {
   "cell_type": "code",
   "execution_count": 7,
   "metadata": {},
   "outputs": [],
   "source": [
    "pt.move_forward(10)"
   ]
  },
  {
   "cell_type": "code",
   "execution_count": 8,
   "metadata": {},
   "outputs": [
    {
     "data": {
      "text/plain": [
       "{'x': 0, 'y': 0, 'z': 20}"
      ]
     },
     "execution_count": 8,
     "metadata": {},
     "output_type": "execute_result"
    }
   ],
   "source": [
    "pt.get_cartesian_coordinates()"
   ]
  },
  {
   "cell_type": "code",
   "execution_count": 10,
   "metadata": {},
   "outputs": [
    {
     "data": {
      "text/plain": [
       "{'altitude': 0.0, 'azimuth': 270.0}"
      ]
     },
     "execution_count": 10,
     "metadata": {},
     "output_type": "execute_result"
    }
   ],
   "source": [
    "pt.get_direction()"
   ]
  },
  {
   "cell_type": "code",
   "execution_count": 10,
   "metadata": {},
   "outputs": [
    {
     "data": {
      "text/plain": [
       "{'altitude': 0.0, 'azimuth': 270.0}"
      ]
     },
     "execution_count": 10,
     "metadata": {},
     "output_type": "execute_result"
    }
   ],
   "source": [
    "pt.get_direction()"
   ]
  },
  {
   "cell_type": "code",
   "execution_count": 11,
   "metadata": {},
   "outputs": [],
   "source": [
    "pt.turn(45)"
   ]
  },
  {
   "cell_type": "code",
   "execution_count": 12,
   "metadata": {},
   "outputs": [
    {
     "data": {
      "text/plain": [
       "{'altitude': 58.31007906582538, 'azimuth': 270.0}"
      ]
     },
     "execution_count": 12,
     "metadata": {},
     "output_type": "execute_result"
    }
   ],
   "source": [
    "pt.get_direction()"
   ]
  },
  {
   "cell_type": "code",
   "execution_count": 15,
   "metadata": {},
   "outputs": [
    {
     "data": {
      "text/plain": [
       "{'altitude': 0, 'azimuth': 0}"
      ]
     },
     "execution_count": 15,
     "metadata": {},
     "output_type": "execute_result"
    }
   ],
   "source": [
    "pt.get_direction()"
   ]
  },
  {
   "cell_type": "code",
   "execution_count": 14,
   "metadata": {},
   "outputs": [
    {
     "data": {
      "text/plain": [
       "{'r': 17.320508075688775, 'theta': 54.735610317245346, 'phi': 45.0}"
      ]
     },
     "execution_count": 14,
     "metadata": {},
     "output_type": "execute_result"
    }
   ],
   "source": [
    "pt.get_polar_coordinates()"
   ]
  },
  {
   "cell_type": "markdown",
   "metadata": {},
   "source": [
    "#### Test `reverse_direction`"
   ]
  },
  {
   "cell_type": "code",
   "execution_count": 2,
   "metadata": {},
   "outputs": [
    {
     "name": "stderr",
     "output_type": "stream",
     "text": [
      "DEBUG:root:Point defined using cartesian coordinates.\n"
     ]
    }
   ],
   "source": [
    "d = Direction(x=0, y=0, z=0, azimuth=0, altitude=0)"
   ]
  },
  {
   "cell_type": "code",
   "execution_count": 3,
   "metadata": {},
   "outputs": [
    {
     "name": "stderr",
     "output_type": "stream",
     "text": [
      "DEBUG:root:phi: 0.0, theta: 0.0\n",
      "DEBUG:root:reverse_direction x -0.0 y -0.0 z -1.0\n",
      "DEBUG:root:radius after reverse_direction 1.0.\n"
     ]
    },
    {
     "data": {
      "text/plain": [
       "({'altitude': 0, 'azimuth': 0}, None, {'altitude': 180.0, 'azimuth': 180.0})"
      ]
     },
     "execution_count": 3,
     "metadata": {},
     "output_type": "execute_result"
    }
   ],
   "source": [
    "d.get_direction(), d.reverse_direction(), d.get_direction()"
   ]
  },
  {
   "cell_type": "code",
   "execution_count": 4,
   "metadata": {},
   "outputs": [
    {
     "name": "stderr",
     "output_type": "stream",
     "text": [
      "DEBUG:root:Point defined using cartesian coordinates.\n",
      "DEBUG:root:phi: 0.0, theta: 1.5707963267948966\n",
      "DEBUG:root:reverse_direction x -1.0 y -0.0 z -6.123233995736766e-17\n",
      "DEBUG:root:radius after reverse_direction 1.0.\n"
     ]
    },
    {
     "data": {
      "text/plain": [
       "{'altitude': 90.0, 'azimuth': 180.0}"
      ]
     },
     "execution_count": 4,
     "metadata": {},
     "output_type": "execute_result"
    }
   ],
   "source": [
    "d = Direction(x=0, y=0, z=0, azimuth=0, altitude=90)\n",
    "d.reverse_direction()\n",
    "d.get_direction()"
   ]
  },
  {
   "cell_type": "code",
   "execution_count": 5,
   "metadata": {},
   "outputs": [
    {
     "name": "stderr",
     "output_type": "stream",
     "text": [
      "DEBUG:root:Point defined using cartesian coordinates.\n",
      "DEBUG:root:phi: 0.7853981633974483, theta: 0.7853981633974483\n",
      "DEBUG:root:reverse_direction x -0.5 y -0.4999999999999999 z -0.7071067811865476\n",
      "DEBUG:root:radius after reverse_direction 1.0.\n"
     ]
    },
    {
     "data": {
      "text/plain": [
       "{'altitude': 135.0, 'azimuth': 225.0}"
      ]
     },
     "execution_count": 5,
     "metadata": {},
     "output_type": "execute_result"
    }
   ],
   "source": [
    "d = Direction(x=0, y=0, z=0, azimuth=45, altitude=45)\n",
    "d.reverse_direction()\n",
    "d.get_direction()"
   ]
  },
  {
   "cell_type": "code",
   "execution_count": 7,
   "metadata": {},
   "outputs": [
    {
     "data": {
      "text/plain": [
       "{'altitude': 10, 'azimuth': 225.0}"
      ]
     },
     "execution_count": 7,
     "metadata": {},
     "output_type": "execute_result"
    }
   ],
   "source": [
    "d.rotate_direction(new_altitude=10)\n",
    "d.get_direction()"
   ]
  },
  {
   "cell_type": "code",
   "execution_count": 8,
   "metadata": {},
   "outputs": [
    {
     "name": "stderr",
     "output_type": "stream",
     "text": [
      "DEBUG:root:phi: 1.5707963267948966, theta: 0.0\n",
      "DEBUG:root:reverse_direction x -0.0 y -0.0 z -1.0\n",
      "DEBUG:root:radius after reverse_direction 1.0.\n"
     ]
    },
    {
     "data": {
      "text/plain": [
       "{'altitude': 180.0, 'azimuth': 180.0}"
      ]
     },
     "execution_count": 8,
     "metadata": {},
     "output_type": "execute_result"
    }
   ],
   "source": [
    "d.rotate_direction(new_altitude=0, new_azimuth=90)\n",
    "d.reverse_direction()\n",
    "d.get_direction()"
   ]
  },
  {
   "cell_type": "code",
   "execution_count": 9,
   "metadata": {},
   "outputs": [
    {
     "name": "stderr",
     "output_type": "stream",
     "text": [
      "DEBUG:root:phi: 1.5707963267948966, theta: 1.5707963267948966\n",
      "DEBUG:root:reverse_direction x -6.123233995736766e-17 y -1.0 z -6.123233995736766e-17\n",
      "DEBUG:root:radius after reverse_direction 1.0.\n"
     ]
    },
    {
     "data": {
      "text/plain": [
       "{'altitude': 90.0, 'azimuth': 270.0}"
      ]
     },
     "execution_count": 9,
     "metadata": {},
     "output_type": "execute_result"
    }
   ],
   "source": [
    "d.rotate_direction(new_altitude=90, new_azimuth=90)\n",
    "d.reverse_direction()\n",
    "d.get_direction()"
   ]
  },
  {
   "cell_type": "code",
   "execution_count": 10,
   "metadata": {},
   "outputs": [
    {
     "name": "stderr",
     "output_type": "stream",
     "text": [
      "DEBUG:root:phi: 1.5707963267948966, theta: 1.5707963267948966\n",
      "DEBUG:root:reverse_direction x -6.123233995736766e-17 y -1.0 z -6.123233995736766e-17\n",
      "DEBUG:root:radius after reverse_direction 1.0.\n"
     ]
    },
    {
     "data": {
      "text/plain": [
       "{'altitude': 90.0, 'azimuth': 270.0}"
      ]
     },
     "execution_count": 10,
     "metadata": {},
     "output_type": "execute_result"
    }
   ],
   "source": [
    "d.rotate_direction(new_altitude=90, new_azimuth=90)\n",
    "d.reverse_direction()\n",
    "d.get_direction()"
   ]
  },
  {
   "cell_type": "markdown",
   "metadata": {},
   "source": [
    "***\n",
    "### Test `Point` class."
   ]
  },
  {
   "cell_type": "markdown",
   "metadata": {},
   "source": [
    "### Test `from_polar_to_cartesian`."
   ]
  },
  {
   "cell_type": "markdown",
   "metadata": {},
   "source": [
    "If `r=0` then it's the origin"
   ]
  },
  {
   "cell_type": "code",
   "execution_count": 11,
   "metadata": {},
   "outputs": [
    {
     "name": "stderr",
     "output_type": "stream",
     "text": [
      "DEBUG:root:phi: 0.0, theta: 0.0\n"
     ]
    },
    {
     "data": {
      "text/plain": [
       "{'x': 0, 'y': 0, 'z': 0}"
      ]
     },
     "execution_count": 11,
     "metadata": {},
     "output_type": "execute_result"
    }
   ],
   "source": [
    "Point.from_polar_to_cartesian(r=0, phi=0, theta=0)"
   ]
  },
  {
   "cell_type": "code",
   "execution_count": 12,
   "metadata": {},
   "outputs": [
    {
     "name": "stderr",
     "output_type": "stream",
     "text": [
      "DEBUG:root:phi: 3.490658503988659, theta: 1.2217304763960306\n"
     ]
    },
    {
     "data": {
      "text/plain": [
       "{'x': 0, 'y': 0, 'z': 0}"
      ]
     },
     "execution_count": 12,
     "metadata": {},
     "output_type": "execute_result"
    }
   ],
   "source": [
    "Point.from_polar_to_cartesian(r=0, phi=200, theta=-1010)"
   ]
  },
  {
   "cell_type": "markdown",
   "metadata": {},
   "source": [
    "If `phi = 90, 270`, point lies in `(y, z)` plane."
   ]
  },
  {
   "cell_type": "code",
   "execution_count": 13,
   "metadata": {},
   "outputs": [
    {
     "name": "stderr",
     "output_type": "stream",
     "text": [
      "DEBUG:root:phi: 1.5707963267948966, theta: 0.7853981633974483\n"
     ]
    },
    {
     "data": {
      "text/plain": [
       "{'x': 0, 'y': 7, 'z': 7}"
      ]
     },
     "execution_count": 13,
     "metadata": {},
     "output_type": "execute_result"
    }
   ],
   "source": [
    "Point.from_polar_to_cartesian(r=10, phi=90, theta=45)"
   ]
  },
  {
   "cell_type": "code",
   "execution_count": 14,
   "metadata": {},
   "outputs": [
    {
     "name": "stderr",
     "output_type": "stream",
     "text": [
      "DEBUG:root:phi: 4.71238898038469, theta: 0.7853981633974483\n"
     ]
    },
    {
     "data": {
      "text/plain": [
       "{'x': 0, 'y': -7, 'z': 7}"
      ]
     },
     "execution_count": 14,
     "metadata": {},
     "output_type": "execute_result"
    }
   ],
   "source": [
    "Point.from_polar_to_cartesian(r=10, phi=270, theta=45)"
   ]
  },
  {
   "cell_type": "markdown",
   "metadata": {},
   "source": [
    "If `phi = 180`, point lies in `(x, z)` plane with negative `x`."
   ]
  },
  {
   "cell_type": "code",
   "execution_count": 15,
   "metadata": {},
   "outputs": [
    {
     "name": "stderr",
     "output_type": "stream",
     "text": [
      "DEBUG:root:phi: 3.141592653589793, theta: 0.7853981633974483\n"
     ]
    },
    {
     "data": {
      "text/plain": [
       "{'x': -7, 'y': 0, 'z': 7}"
      ]
     },
     "execution_count": 15,
     "metadata": {},
     "output_type": "execute_result"
    }
   ],
   "source": [
    "Point.from_polar_to_cartesian(r=10, phi=180, theta=45)"
   ]
  },
  {
   "cell_type": "code",
   "execution_count": 17,
   "metadata": {},
   "outputs": [
    {
     "name": "stderr",
     "output_type": "stream",
     "text": [
      "ERROR:root:theta must be in between 0 and 180.\n"
     ]
    },
    {
     "ename": "ValueError",
     "evalue": "",
     "output_type": "error",
     "traceback": [
      "\u001b[0;31m---------------------------------------------------------------------------\u001b[0m",
      "\u001b[0;31mValueError\u001b[0m                                Traceback (most recent call last)",
      "\u001b[0;32m<ipython-input-17-46901f8bc9ca>\u001b[0m in \u001b[0;36m<module>\u001b[0;34m\u001b[0m\n\u001b[0;32m----> 1\u001b[0;31m \u001b[0mPoint\u001b[0m\u001b[0;34m.\u001b[0m\u001b[0mfrom_polar_to_cartesian\u001b[0m\u001b[0;34m(\u001b[0m\u001b[0mr\u001b[0m\u001b[0;34m=\u001b[0m\u001b[0;36m10\u001b[0m\u001b[0;34m,\u001b[0m \u001b[0mphi\u001b[0m\u001b[0;34m=\u001b[0m\u001b[0;36m180\u001b[0m\u001b[0;34m,\u001b[0m \u001b[0mtheta\u001b[0m\u001b[0;34m=\u001b[0m\u001b[0;36m180\u001b[0m\u001b[0;34m+\u001b[0m\u001b[0;36m45\u001b[0m\u001b[0;34m)\u001b[0m\u001b[0;34m\u001b[0m\u001b[0;34m\u001b[0m\u001b[0m\n\u001b[0m",
      "\u001b[0;32m~/git/tlib/lung/lung_fractals.py\u001b[0m in \u001b[0;36mfrom_polar_to_cartesian\u001b[0;34m(r, theta, phi, round_off)\u001b[0m\n\u001b[1;32m    227\u001b[0m         \u001b[0;32mif\u001b[0m \u001b[0mtheta\u001b[0m \u001b[0;34m<\u001b[0m \u001b[0;36m0\u001b[0m \u001b[0;32mor\u001b[0m \u001b[0mtheta\u001b[0m \u001b[0;34m>\u001b[0m \u001b[0;36m180\u001b[0m\u001b[0;34m:\u001b[0m\u001b[0;34m\u001b[0m\u001b[0;34m\u001b[0m\u001b[0m\n\u001b[1;32m    228\u001b[0m             \u001b[0mlogging\u001b[0m\u001b[0;34m.\u001b[0m\u001b[0merror\u001b[0m\u001b[0;34m(\u001b[0m\u001b[0;34m'theta must be in between 0 and 180.'\u001b[0m\u001b[0;34m)\u001b[0m\u001b[0;34m\u001b[0m\u001b[0;34m\u001b[0m\u001b[0m\n\u001b[0;32m--> 229\u001b[0;31m             \u001b[0;32mraise\u001b[0m \u001b[0mValueError\u001b[0m\u001b[0;34m\u001b[0m\u001b[0;34m\u001b[0m\u001b[0m\n\u001b[0m\u001b[1;32m    230\u001b[0m         \u001b[0;31m# Convert to radians\u001b[0m\u001b[0;34m\u001b[0m\u001b[0;34m\u001b[0m\u001b[0;34m\u001b[0m\u001b[0m\n\u001b[1;32m    231\u001b[0m         \u001b[0mphi\u001b[0m \u001b[0;34m=\u001b[0m \u001b[0mnp\u001b[0m\u001b[0;34m.\u001b[0m\u001b[0mdeg2rad\u001b[0m\u001b[0;34m(\u001b[0m\u001b[0mphi\u001b[0m\u001b[0;34m)\u001b[0m\u001b[0;34m\u001b[0m\u001b[0;34m\u001b[0m\u001b[0m\n",
      "\u001b[0;31mValueError\u001b[0m: "
     ]
    }
   ],
   "source": [
    "Point.from_polar_to_cartesian(r=10, phi=180, theta=180+45)"
   ]
  },
  {
   "cell_type": "markdown",
   "metadata": {},
   "source": [
    "Careful that rounding to integer can lead to wierd results:"
   ]
  },
  {
   "cell_type": "code",
   "execution_count": 18,
   "metadata": {},
   "outputs": [
    {
     "name": "stderr",
     "output_type": "stream",
     "text": [
      "DEBUG:root:phi: 0.7853981633974483, theta: 0.7853981633974483\n"
     ]
    },
    {
     "data": {
      "text/plain": [
       "{'x': 0, 'y': 0, 'z': 1}"
      ]
     },
     "execution_count": 18,
     "metadata": {},
     "output_type": "execute_result"
    }
   ],
   "source": [
    "Point.from_polar_to_cartesian(r=1, phi=45, theta=45)"
   ]
  },
  {
   "cell_type": "markdown",
   "metadata": {},
   "source": [
    "### Test `from_cartesian_to_polar`."
   ]
  },
  {
   "cell_type": "markdown",
   "metadata": {},
   "source": [
    "Check origin goes into origin."
   ]
  },
  {
   "cell_type": "code",
   "execution_count": 19,
   "metadata": {},
   "outputs": [
    {
     "data": {
      "text/plain": [
       "{'r': 0, 'theta': 0, 'phi': 0}"
      ]
     },
     "execution_count": 19,
     "metadata": {},
     "output_type": "execute_result"
    }
   ],
   "source": [
    "Point.from_cartesian_to_polar(x=0, y=0, z=0)"
   ]
  },
  {
   "cell_type": "markdown",
   "metadata": {},
   "source": [
    "Check: `theta=90` when `z=0`."
   ]
  },
  {
   "cell_type": "code",
   "execution_count": 20,
   "metadata": {},
   "outputs": [
    {
     "data": {
      "text/plain": [
       "{'r': 22.360679774997898, 'theta': 90.0, 'phi': 63.43494882292201}"
      ]
     },
     "execution_count": 20,
     "metadata": {},
     "output_type": "execute_result"
    }
   ],
   "source": [
    "Point.from_cartesian_to_polar(x=10, y=20, z=0)"
   ]
  },
  {
   "cell_type": "code",
   "execution_count": 21,
   "metadata": {},
   "outputs": [
    {
     "data": {
      "text/plain": [
       "{'r': 200.24984394500785, 'theta': 90.0, 'phi': 267.1375947738883}"
      ]
     },
     "execution_count": 21,
     "metadata": {},
     "output_type": "execute_result"
    }
   ],
   "source": [
    "Point.from_cartesian_to_polar(x=-10, y=-200, z=0)"
   ]
  },
  {
   "cell_type": "code",
   "execution_count": 22,
   "metadata": {},
   "outputs": [
    {
     "data": {
      "text/plain": [
       "{'r': 10.0, 'theta': 90.0, 'phi': 180.0}"
      ]
     },
     "execution_count": 22,
     "metadata": {},
     "output_type": "execute_result"
    }
   ],
   "source": [
    "Point.from_cartesian_to_polar(x=-10, y=0, z=0)"
   ]
  },
  {
   "cell_type": "code",
   "execution_count": 23,
   "metadata": {},
   "outputs": [
    {
     "data": {
      "text/plain": [
       "{'r': 14.142135623730951, 'theta': 45.00000000000001, 'phi': 0.0}"
      ]
     },
     "execution_count": 23,
     "metadata": {},
     "output_type": "execute_result"
    }
   ],
   "source": [
    "Point.from_cartesian_to_polar(x=10, y=0, z=10)"
   ]
  },
  {
   "cell_type": "code",
   "execution_count": 24,
   "metadata": {},
   "outputs": [
    {
     "data": {
      "text/plain": [
       "{'r': 14.142135623730951, 'theta': 135.0, 'phi': 0.0}"
      ]
     },
     "execution_count": 24,
     "metadata": {},
     "output_type": "execute_result"
    }
   ],
   "source": [
    "Point.from_cartesian_to_polar(x=10, y=0, z=-10)"
   ]
  },
  {
   "cell_type": "markdown",
   "metadata": {},
   "source": [
    "Test all the cases with negative axes"
   ]
  },
  {
   "cell_type": "code",
   "execution_count": 25,
   "metadata": {},
   "outputs": [
    {
     "data": {
      "text/plain": [
       "{'r': 1.4142135623730951, 'theta': 90.0, 'phi': 45.0}"
      ]
     },
     "execution_count": 25,
     "metadata": {},
     "output_type": "execute_result"
    }
   ],
   "source": [
    "Point.from_cartesian_to_polar(x=1, y=1, z=0)"
   ]
  },
  {
   "cell_type": "code",
   "execution_count": 29,
   "metadata": {},
   "outputs": [
    {
     "data": {
      "text/plain": [
       "{'r': 1.000000499999875, 'theta': 90.0, 'phi': 180.0572957604145}"
      ]
     },
     "execution_count": 29,
     "metadata": {},
     "output_type": "execute_result"
    }
   ],
   "source": [
    "Point.from_cartesian_to_polar(x=-1, y=-0.001, z=0)"
   ]
  },
  {
   "cell_type": "markdown",
   "metadata": {},
   "source": [
    "Test `Point` constructor"
   ]
  },
  {
   "cell_type": "markdown",
   "metadata": {},
   "source": [
    "if `r=0` is origin"
   ]
  },
  {
   "cell_type": "code",
   "execution_count": 17,
   "metadata": {},
   "outputs": [
    {
     "data": {
      "text/plain": [
       "({'x': 0, 'y': 0, 'z': 0}, {'r': 0, 'theta': 0, 'phi': 0})"
      ]
     },
     "execution_count": 17,
     "metadata": {},
     "output_type": "execute_result"
    }
   ],
   "source": [
    "pt = Point(x=0, y=0, z=0)\n",
    "pt.get_cartesian_coordinates(), pt.get_polar_coordinates()"
   ]
  },
  {
   "cell_type": "code",
   "execution_count": 18,
   "metadata": {},
   "outputs": [
    {
     "data": {
      "text/plain": [
       "({'x': 0, 'y': 0, 'z': 0}, {'r': 0, 'theta': 0, 'phi': 0})"
      ]
     },
     "execution_count": 18,
     "metadata": {},
     "output_type": "execute_result"
    }
   ],
   "source": [
    "pt = Point(r=0, phi=100, theta=0)\n",
    "pt.get_cartesian_coordinates(), pt.get_polar_coordinates()"
   ]
  },
  {
   "cell_type": "markdown",
   "metadata": {},
   "source": [
    "When `theta=0` then `x=y=0` (and `phi` doesn't matter)"
   ]
  },
  {
   "cell_type": "code",
   "execution_count": 27,
   "metadata": {},
   "outputs": [
    {
     "data": {
      "text/plain": [
       "({'x': 0, 'y': 0, 'z': 10}, {'r': 10.0, 'theta': 0.0, 'phi': 90.0})"
      ]
     },
     "execution_count": 27,
     "metadata": {},
     "output_type": "execute_result"
    }
   ],
   "source": [
    "pt = Point(r=10, phi=45, theta=0)\n",
    "pt.get_cartesian_coordinates(), pt.get_polar_coordinates()"
   ]
  },
  {
   "cell_type": "code",
   "execution_count": 28,
   "metadata": {},
   "outputs": [
    {
     "data": {
      "text/plain": [
       "({'x': 0, 'y': 0, 'z': 10}, {'r': 10.0, 'theta': 0.0, 'phi': 90.0})"
      ]
     },
     "execution_count": 28,
     "metadata": {},
     "output_type": "execute_result"
    }
   ],
   "source": [
    "pt = Point(x=0, y=0, z=10)\n",
    "pt.get_cartesian_coordinates(), pt.get_polar_coordinates()"
   ]
  },
  {
   "cell_type": "markdown",
   "metadata": {},
   "source": [
    "When `Point` is defined with polar coordinates the radius is automatically adjusted so that the corresponding Cartesian coordinates are integer"
   ]
  },
  {
   "cell_type": "code",
   "execution_count": 8,
   "metadata": {},
   "outputs": [
    {
     "data": {
      "text/plain": [
       "({'x': 7, 'y': 7, 'z': 0},\n",
       " {'r': 9.899494936611665, 'theta': 90.0, 'phi': 45.0})"
      ]
     },
     "execution_count": 8,
     "metadata": {},
     "output_type": "execute_result"
    }
   ],
   "source": [
    "pt = Point(r=10, phi=45, theta=90)\n",
    "pt.get_cartesian_coordinates(), pt.get_polar_coordinates()"
   ]
  },
  {
   "cell_type": "markdown",
   "metadata": {},
   "source": [
    "When `theta=180`, `z` is negative (and `phi` doesn't matter)."
   ]
  },
  {
   "cell_type": "code",
   "execution_count": 9,
   "metadata": {},
   "outputs": [
    {
     "data": {
      "text/plain": [
       "({'x': 0, 'y': 0, 'z': -10}, {'r': 10.0, 'theta': 180.0, 'phi': 90.0})"
      ]
     },
     "execution_count": 9,
     "metadata": {},
     "output_type": "execute_result"
    }
   ],
   "source": [
    "pt = Point(r=10, phi=45, theta=180)\n",
    "pt.get_cartesian_coordinates(), pt.get_polar_coordinates()"
   ]
  },
  {
   "cell_type": "code",
   "execution_count": 10,
   "metadata": {},
   "outputs": [
    {
     "data": {
      "text/plain": [
       "({'x': 0, 'y': 0, 'z': -10}, {'r': 10.0, 'theta': 180.0, 'phi': 90.0})"
      ]
     },
     "execution_count": 10,
     "metadata": {},
     "output_type": "execute_result"
    }
   ],
   "source": [
    "pt = Point(r=10, phi=45, theta=180)\n",
    "pt.get_cartesian_coordinates(), pt.get_polar_coordinates()"
   ]
  }
 ],
 "metadata": {
  "kernelspec": {
   "display_name": "Python 3",
   "language": "python",
   "name": "python3"
  },
  "language_info": {
   "codemirror_mode": {
    "name": "ipython",
    "version": 3
   },
   "file_extension": ".py",
   "mimetype": "text/x-python",
   "name": "python",
   "nbconvert_exporter": "python",
   "pygments_lexer": "ipython3",
   "version": "3.7.3"
  }
 },
 "nbformat": 4,
 "nbformat_minor": 2
}
