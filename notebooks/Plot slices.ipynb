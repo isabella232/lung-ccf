{
 "cells": [
  {
   "cell_type": "code",
   "execution_count": 1,
   "metadata": {},
   "outputs": [],
   "source": [
    "from __future__ import print_function\n",
    "\n",
    "import numpy as np\n",
    "import matplotlib.pyplot as plt\n",
    "\n",
    "class IndexTracker(object):\n",
    "    def __init__(self, ax, X):\n",
    "        self.ax = ax\n",
    "        ax.set_title('use scroll wheel to navigate images')\n",
    "\n",
    "        self.X = X\n",
    "        self.slices, rows, cols = X.shape\n",
    "        self.ind = self.slices//2\n",
    "\n",
    "        self.im = ax.imshow(self.X[self.ind, :, :])\n",
    "        self.update()\n",
    "\n",
    "    def onscroll(self, event):\n",
    "        print(\"%s %s\" % (event.button, event.step))\n",
    "        if event.button == 'up':\n",
    "            self.ind = (self.ind + 1) % self.slices\n",
    "        else:\n",
    "            self.ind = (self.ind - 1) % self.slices\n",
    "        self.update()\n",
    "\n",
    "    def update(self):\n",
    "        self.im.set_data(self.X[self.ind, :, :])\n",
    "        ax.set_ylabel('slice %s' % self.ind)\n",
    "        self.im.axes.figure.canvas.draw()"
   ]
  },
  {
   "cell_type": "code",
   "execution_count": null,
   "metadata": {},
   "outputs": [],
   "source": [
    "%matplotlib notebook\n",
    "\n",
    "intensities_img = skimage.io.imread('data/100x/YAf135 010819FISH9 7TNFa EL4 20m1.tif', plugin='tifffile')\n",
    "\n",
    "fig, ax = plt.subplots(1, 1)\n",
    "tracker = IndexTracker(ax, intensities[:,:,:, 1])\n",
    "\n",
    "fig.canvas.mpl_connect('scroll_event', tracker.onscroll)\n",
    "plt.show()"
   ]
  }
 ],
 "metadata": {
  "kernelspec": {
   "display_name": "Python 3",
   "language": "python",
   "name": "python3"
  },
  "language_info": {
   "codemirror_mode": {
    "name": "ipython",
    "version": 3
   },
   "file_extension": ".py",
   "mimetype": "text/x-python",
   "name": "python",
   "nbconvert_exporter": "python",
   "pygments_lexer": "ipython3",
   "version": "3.7.3"
  }
 },
 "nbformat": 4,
 "nbformat_minor": 2
}
