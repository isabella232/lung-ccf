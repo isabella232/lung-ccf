{
 "cells": [
  {
   "cell_type": "code",
   "execution_count": 1,
   "metadata": {},
   "outputs": [
    {
     "name": "stderr",
     "output_type": "stream",
     "text": [
      "/Users/eyal/anaconda3/envs/spatial/lib/python3.7/site-packages/dask/config.py:168: YAMLLoadWarning: calling yaml.load() without Loader=... is deprecated, as the default Loader is unsafe. Please read https://msg.pyyaml.org/load for full details.\n",
      "  data = yaml.load(f.read()) or {}\n"
     ]
    }
   ],
   "source": [
    "import skimage\n",
    "import networkx as nx"
   ]
  },
  {
   "cell_type": "code",
   "execution_count": 2,
   "metadata": {},
   "outputs": [],
   "source": [
    "from __future__ import print_function\n",
    "\n",
    "import numpy as np\n",
    "import matplotlib.pyplot as plt\n",
    "\n",
    "class IndexTracker(object):\n",
    "    def __init__(self, ax, X):\n",
    "        self.ax = ax\n",
    "        ax.set_title('use scroll wheel to navigate images')\n",
    "\n",
    "        self.X = X\n",
    "        self.slices, rows, cols = X.shape\n",
    "        self.ind = self.slices//2\n",
    "\n",
    "        self.im = ax.imshow(self.X[self.ind, :, :])\n",
    "        self.update()\n",
    "\n",
    "    def onscroll(self, event):\n",
    "        print(\"%s %s\" % (event.button, event.step))\n",
    "        if event.button == 'up':\n",
    "            self.ind = (self.ind + 1) % self.slices\n",
    "        else:\n",
    "            self.ind = (self.ind - 1) % self.slices\n",
    "        self.update()\n",
    "\n",
    "    def update(self):\n",
    "        self.im.set_data(self.X[self.ind, :, :])\n",
    "        ax.set_ylabel('slice %s' % self.ind)\n",
    "        self.im.axes.figure.canvas.draw()"
   ]
  },
  {
   "cell_type": "code",
   "execution_count": 3,
   "metadata": {},
   "outputs": [],
   "source": [
    "lung_path = '../hubmap_data/lung_data/D175R.tiff'\n",
    "landmark_path = '../hubmap_data/lung_data/D175R.fcsv'\n",
    "output_path = \"../hubmap_data/D175R_results.csv\"\n",
    "\n",
    "x_0 = 125\n",
    "y_0 = -4\n",
    "z_0 = 30.80993652534375\n",
    "\n",
    "downsample_factor = 20"
   ]
  },
  {
   "cell_type": "code",
   "execution_count": 4,
   "metadata": {},
   "outputs": [],
   "source": [
    "lung_mask = skimage.io.imread(lung_path)"
   ]
  },
  {
   "cell_type": "code",
   "execution_count": 5,
   "metadata": {},
   "outputs": [
    {
     "data": {
      "text/plain": [
       "(824, 768, 768)"
      ]
     },
     "execution_count": 5,
     "metadata": {},
     "output_type": "execute_result"
    }
   ],
   "source": [
    "lung_mask.shape"
   ]
  },
  {
   "cell_type": "code",
   "execution_count": 6,
   "metadata": {},
   "outputs": [],
   "source": [
    "downsampled = skimage.transform.downscale_local_mean(lung_mask, factors = (downsample_factor, downsample_factor, downsample_factor), )"
   ]
  },
  {
   "cell_type": "code",
   "execution_count": 7,
   "metadata": {},
   "outputs": [],
   "source": [
    "downsampled[downsampled > 0] = 1"
   ]
  },
  {
   "cell_type": "code",
   "execution_count": 8,
   "metadata": {},
   "outputs": [],
   "source": [
    "downsampled[:, 31:, : ] = 0"
   ]
  },
  {
   "cell_type": "code",
   "execution_count": 9,
   "metadata": {},
   "outputs": [],
   "source": [
    "shape_list = list(downsampled.shape)"
   ]
  },
  {
   "cell_type": "code",
   "execution_count": 10,
   "metadata": {},
   "outputs": [],
   "source": [
    "#Swap axes\n",
    "x_shape = shape_list[2]\n",
    "z_shape = shape_list[0]\n",
    "\n",
    "shape_list[0] = x_shape\n",
    "shape_list[2] = z_shape"
   ]
  },
  {
   "cell_type": "code",
   "execution_count": 11,
   "metadata": {},
   "outputs": [],
   "source": [
    "lung_graph = nx.grid_graph(dim = shape_list)"
   ]
  },
  {
   "cell_type": "code",
   "execution_count": 12,
   "metadata": {},
   "outputs": [],
   "source": [
    "unaccecable_nodes = np.argwhere(np.logical_not(downsampled))"
   ]
  },
  {
   "cell_type": "code",
   "execution_count": 13,
   "metadata": {},
   "outputs": [],
   "source": [
    "# Only leave connected cytoplasm\n",
    "for pixel in unaccecable_nodes:\n",
    "    lung_graph.remove_node(tuple(pixel))"
   ]
  },
  {
   "cell_type": "code",
   "execution_count": 14,
   "metadata": {},
   "outputs": [],
   "source": [
    "import pandas\n",
    "landmarks = pandas.read_csv(landmark_path, skiprows = 2)"
   ]
  },
  {
   "cell_type": "code",
   "execution_count": 15,
   "metadata": {},
   "outputs": [],
   "source": [
    "x = landmarks.x.to_numpy()\n",
    "y = landmarks.y.to_numpy()\n",
    "z = landmarks.z.to_numpy()\n",
    "\n",
    "# Origin for 205\n",
    "# x_0 = 125\n",
    "# y_0 = 23\n",
    "# z_0 = 28.910\n",
    "\n",
    "s_x = 0.325520833 * downsample_factor\n",
    "s_y = 0.325520833 * downsample_factor\n",
    "s_z = 0.330017090 * downsample_factor\n",
    "\n",
    "x = -np.floor((x - x_0) / s_x)\n",
    "y = -np.floor((y - y_0) / s_y)\n",
    "z = np.floor((z - z_0) / s_z)"
   ]
  },
  {
   "cell_type": "code",
   "execution_count": 16,
   "metadata": {},
   "outputs": [],
   "source": [
    "landmark_locations = np.column_stack((z,y,x))\n",
    "landmark_locations = landmark_locations[0::3, :]"
   ]
  },
  {
   "cell_type": "code",
   "execution_count": 17,
   "metadata": {},
   "outputs": [
    {
     "data": {
      "text/plain": [
       "array([[39., 20., 17.],\n",
       "       [31., 26., 25.],\n",
       "       [ 9., 20.,  7.],\n",
       "       [14., 11., 17.],\n",
       "       [-2., 21., 29.],\n",
       "       [-2., 26., 21.],\n",
       "       [13., 14., 12.],\n",
       "       [23., 30., 22.],\n",
       "       [11., 16.,  5.],\n",
       "       [22., 28., 10.]])"
      ]
     },
     "execution_count": 17,
     "metadata": {},
     "output_type": "execute_result"
    }
   ],
   "source": [
    "# Only take accurate landmarks \n",
    "landmark_locations"
   ]
  },
  {
   "cell_type": "code",
   "execution_count": 18,
   "metadata": {},
   "outputs": [],
   "source": [
    "landmark_locations[1, :] = np.array([31.0, 26.0, 24.0])\n",
    "landmark_locations[4, :] = np.array([0, 21.0, 28.0])\n",
    "landmark_locations[5, :] = np.array([0, 26.0, 21.0])"
   ]
  },
  {
   "cell_type": "code",
   "execution_count": 19,
   "metadata": {},
   "outputs": [],
   "source": [
    "distances = [nx.shortest_path_length(lung_graph, source = tuple(location.astype(np.int))) for location in landmark_locations]"
   ]
  },
  {
   "cell_type": "code",
   "execution_count": 20,
   "metadata": {},
   "outputs": [],
   "source": [
    "allowable_space_distances = np.zeros_like(downsampled, dtype = \"int\")\n",
    "\n",
    "for pixel in np.argwhere(downsampled):\n",
    "    allowable_space_distances[tuple(pixel)] = distances[0].get(tuple(pixel), 100000)"
   ]
  },
  {
   "cell_type": "code",
   "execution_count": 21,
   "metadata": {},
   "outputs": [
    {
     "data": {
      "image/png": "[encoded data removed]",
      "text/plain": [
       "<Figure size 432x288 with 1 Axes>"
      ]
     },
     "metadata": {
      "needs_background": "light"
     },
     "output_type": "display_data"
    }
   ],
   "source": [
    "%matplotlib noteboo\n",
    "fig, ax = plt.subplots(1, 1)\n",
    "tracker = IndexTracker(ax, allowable_space_distances)\n",
    "\n",
    "fig.canvas.mpl_connect('scroll_event', tracker.onscroll)\n",
    "plt.show()"
   ]
  },
  {
   "cell_type": "code",
   "execution_count": 22,
   "metadata": {},
   "outputs": [
    {
     "data": {
      "text/plain": [
       "10"
      ]
     },
     "execution_count": 22,
     "metadata": {},
     "output_type": "execute_result"
    }
   ],
   "source": [
    "len(distances)"
   ]
  },
  {
   "cell_type": "code",
   "execution_count": 23,
   "metadata": {},
   "outputs": [],
   "source": [
    "import pandas as pd"
   ]
  },
  {
   "cell_type": "code",
   "execution_count": 24,
   "metadata": {},
   "outputs": [],
   "source": [
    "distance_matrix = pd.DataFrame.from_dict(distances)"
   ]
  },
  {
   "cell_type": "code",
   "execution_count": 25,
   "metadata": {},
   "outputs": [],
   "source": [
    "distance_matrix.to_csv(output_path)"
   ]
  },
  {
   "cell_type": "code",
   "execution_count": null,
   "metadata": {},
   "outputs": [],
   "source": []
  }
 ],
 "metadata": {
  "kernelspec": {
   "display_name": "Python 3",
   "language": "python",
   "name": "python3"
  },
  "language_info": {
   "codemirror_mode": {
    "name": "ipython",
    "version": 3
   },
   "file_extension": ".py",
   "mimetype": "text/x-python",
   "name": "python",
   "nbconvert_exporter": "python",
   "pygments_lexer": "ipython3",
   "version": "3.7.3"
  }
 },
 "nbformat": 4,
 "nbformat_minor": 2
}
