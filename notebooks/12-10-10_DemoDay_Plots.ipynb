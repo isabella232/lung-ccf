{
 "cells": [
  {
   "cell_type": "code",
   "execution_count": 5,
   "metadata": {},
   "outputs": [],
   "source": [
    "import SimpleITK as sitk\n",
    "import os\n",
    "import numpy as np\n",
    "import ipywidgets as widgets\n",
    "import matplotlib.pyplot as plt\n",
    "import ipyvolume as ipv\n",
    "from scipy.ndimage import zoom\n",
    "import gui\n",
    "import ipyvolume as ipv\n",
    "import pandas as pd\n",
    "%matplotlib notebook"
   ]
  },
  {
   "cell_type": "code",
   "execution_count": 2,
   "metadata": {},
   "outputs": [],
   "source": [
    "series_reader = sitk.ImageSeriesReader()\n",
    "cur_paths = series_reader.GetGDCMSeriesFileNames(\"/home/share/rochester_CT/D175_CT_Scan/D175_Right_Lung_CT_DICOMS/IMediaExport/DICOM/PAT_0000/STD_0000/SER_0001/OBJ_0001\")\n",
    "img = sitk.ReadImage(cur_paths)\n",
    "img = sitk.RescaleIntensity(img)\n",
    "temp_lung = sitk.GetArrayViewFromImage(img)\n",
    "lung_175 = temp_lung.copy()"
   ]
  },
  {
   "cell_type": "code",
   "execution_count": 125,
   "metadata": {},
   "outputs": [],
   "source": [
    "series_reader = sitk.ImageSeriesReader()\n",
    "cur_paths = series_reader.GetGDCMSeriesFileNames(\"/home/share/rochester_CT/Lungmap_D205_anonymized_RightLung/Right Lung/AX BONE .67 - 3\")\n",
    "img = sitk.ReadImage(cur_paths)\n",
    "temp_lung = sitk.GetArrayViewFromImage(img)\n",
    "lung_205 = temp_lung"
   ]
  },
  {
   "cell_type": "code",
   "execution_count": 48,
   "metadata": {},
   "outputs": [],
   "source": [
    "def show_vol_pts(vol, xs, ys, zs, color):\n",
    "    sphere_size = 4\n",
    "    ipv.figure()\n",
    "    ipv.volshow(vol, level=[0.07, 0.22, 0.26], opacity=[0.004, 0.05, 0.1])\n",
    "    ipv.scatter(zs, ys, xs, marker='sphere', color=color, size=sphere_size)\n",
    "    ipv.style.use( 'minimal')\n",
    "    ipv.show()"
   ]
  },
  {
   "cell_type": "code",
   "execution_count": 26,
   "metadata": {},
   "outputs": [],
   "source": [
    "neighbours_table = pd.read_table(\"/home/butlera/Projects/HuBMAP/lung-ccf/data/neighbor_points_D205R.tsv\")\n",
    "\n",
    "point = 5\n",
    "\n",
    "query = neighbours_table.index[point]\n",
    "query = np.array(query.split(',')).astype(np.int) * 20"
   ]
  },
  {
   "cell_type": "code",
   "execution_count": 27,
   "metadata": {},
   "outputs": [
    {
     "data": {
      "text/plain": [
       "array([360, 360, 140])"
      ]
     },
     "execution_count": 27,
     "metadata": {},
     "output_type": "execute_result"
    }
   ],
   "source": [
    "query"
   ]
  },
  {
   "cell_type": "markdown",
   "metadata": {},
   "source": [
    "Points to use \n",
    "* 1: [680, 380, 180]\n",
    "* 2: [320, 360, 480]\n",
    "* 5: [260, 360, 140]\n",
    "\n",
    "Need to manually adjust bottom sliders\n",
    "- opacity = 2.40\n",
    "- brightness = 0.1"
   ]
  },
  {
   "cell_type": "code",
   "execution_count": 35,
   "metadata": {},
   "outputs": [],
   "source": [
    "x = np.array([680, 320, 260]).astype('f')\n",
    "y = np.array([380, 360, 360]).astype('f')\n",
    "z = np.array([180, 480, 140]).astype('f')"
   ]
  },
  {
   "cell_type": "code",
   "execution_count": 68,
   "metadata": {},
   "outputs": [
    {
     "data": {
      "application/vnd.jupyter.widget-view+json": {
       "model_id": "3553723d62ff41b2a445daccaebceed7",
       "version_major": 2,
       "version_minor": 0
      },
      "text/plain": [
       "VBox(children=(VBox(children=(HBox(children=(Label(value='levels:'), FloatSlider(value=0.07, max=1.0, step=0.0…"
      ]
     },
     "metadata": {},
     "output_type": "display_data"
    }
   ],
   "source": [
    "show_vol_pts(lung_175, x, y, z, [[0, 0, 1], [0,1,0], [1,0,0]])"
   ]
  },
  {
   "cell_type": "code",
   "execution_count": 73,
   "metadata": {},
   "outputs": [
    {
     "data": {
      "application/vnd.jupyter.widget-view+json": {
       "model_id": "bc1215ec788e4d5e85c0c080d6b01d7e",
       "version_major": 2,
       "version_minor": 0
      },
      "text/plain": [
       "Output()"
      ]
     },
     "metadata": {},
     "output_type": "display_data"
    }
   ],
   "source": [
    "def set_view(figure, framenr, fraction):\n",
    "    ipv.view(90, fraction*360)\n",
    "ipv.movie('/home/butlera/Projects/HuBMAP/2019-12-05_Hackathon/d175_query_points.gif', set_view, fps=20, frames=160)"
   ]
  },
  {
   "cell_type": "markdown",
   "metadata": {},
   "source": [
    "Now plot the neighboring points"
   ]
  },
  {
   "cell_type": "code",
   "execution_count": 363,
   "metadata": {},
   "outputs": [],
   "source": [
    "neighbours1 = neighbours_table.iloc[1][:]\n",
    "neighbour1 = np.array([np.array(neighbour.split(',')).astype(np.int) * 20 for neighbour in neighbours1])[0,:]\n",
    "neighbours2 = neighbours_table.iloc[2][:]\n",
    "neighbour2 = np.array([np.array(neighbour.split(',')).astype(np.int) * 20 for neighbour in neighbours2])[0,:]\n",
    "neighbours5 = neighbours_table.iloc[5][:]\n",
    "neighbour5 = np.array([np.array(neighbour.split(',')).astype(np.int) * 20 for neighbour in neighbours5])[0,:]\n"
   ]
  },
  {
   "cell_type": "code",
   "execution_count": 378,
   "metadata": {},
   "outputs": [],
   "source": [
    "all_neighbors = np.concatenate((neighbour1, neighbour2, neighbour5)).reshape(3,3)"
   ]
  },
  {
   "cell_type": "code",
   "execution_count": 379,
   "metadata": {},
   "outputs": [],
   "source": [
    "x = all_neighbors[:,0].astype('f')\n",
    "y = all_neighbors[:,1].astype('f')\n",
    "z = all_neighbors[:,2].astype('f')"
   ]
  },
  {
   "cell_type": "code",
   "execution_count": 383,
   "metadata": {},
   "outputs": [],
   "source": [
    "c1 = np.array([[0, 0, 1]])\n",
    "c1 = np.tile(c1,(1,1))\n",
    "c2 = np.array([[0, 1, 0]])\n",
    "c2 = np.tile(c2,(1,1))\n",
    "c3 = np.array([[1, 0, 0]])\n",
    "c3 = np.tile(c3,(1,1))\n",
    "colors = np.concatenate((c1, c2, c3), axis = 0)"
   ]
  },
  {
   "cell_type": "code",
   "execution_count": 384,
   "metadata": {},
   "outputs": [
    {
     "data": {
      "application/vnd.jupyter.widget-view+json": {
       "model_id": "3639d19507d84561908649ce0f3096dc",
       "version_major": 2,
       "version_minor": 0
      },
      "text/plain": [
       "VBox(children=(VBox(children=(HBox(children=(Label(value='levels:'), FloatSlider(value=0.07, max=1.0, step=0.0…"
      ]
     },
     "metadata": {},
     "output_type": "display_data"
    }
   ],
   "source": [
    "show_vol_pts(lung_205, x, y, z, colors)"
   ]
  },
  {
   "cell_type": "code",
   "execution_count": 388,
   "metadata": {},
   "outputs": [
    {
     "data": {
      "application/vnd.jupyter.widget-view+json": {
       "model_id": "4dab6834793b4954b6d5aa46df866c05",
       "version_major": 2,
       "version_minor": 0
      },
      "text/plain": [
       "Output()"
      ]
     },
     "metadata": {},
     "output_type": "display_data"
    }
   ],
   "source": [
    "def set_view(figure, framenr, fraction):\n",
    "    ipv.view(90, fraction*360)\n",
    "ipv.movie('/home/butlera/Projects/HuBMAP/2019-12-05_Hackathon/d205_neighbor_point_single.gif', set_view, fps=20, frames=160)"
   ]
  },
  {
   "cell_type": "markdown",
   "metadata": {},
   "source": [
    "Now for the landmarks"
   ]
  },
  {
   "cell_type": "code",
   "execution_count": 345,
   "metadata": {},
   "outputs": [],
   "source": [
    "import pandas\n",
    "landmarks175 = pd.read_csv(\"/home/butlera/Projects/HuBMAP/D175R_landmarks1.csv\")\n",
    "landmarks175\n",
    "x = landmarks175.x.to_numpy()\n",
    "x = -(x - 125)/(0.325520833) \n",
    "y = landmarks175.y.to_numpy()\n",
    "y = -(y + 4)/(0.325520833 ) \n",
    "z = landmarks175.z.to_numpy()\n",
    "z = (z - 17.7099609375)/(0.330017090)\n"
   ]
  },
  {
   "cell_type": "code",
   "execution_count": 346,
   "metadata": {},
   "outputs": [
    {
     "name": "stdout",
     "output_type": "stream",
     "text": [
      "[334.99854 404.65    458.99673 128.82433 116.74522 356.3735  353.6118\n",
      " 587.84564 350.28174 197.99962]\n",
      "[394.45096 315.51898 519.3953  330.14783 308.0018  207.86382 241.06598\n",
      " 324.10828 507.31622 555.86   ]\n",
      "[8.2085760e+02 5.4813232e+02 6.6095380e+02 6.9160172e+01 1.7516075e+02\n",
      " 3.5504840e+02 3.6825073e+02 1.6159887e+01 1.6071610e-01 4.8843845e+02]\n"
     ]
    }
   ],
   "source": [
    "x = x.astype('f')\n",
    "y = y.astype('f')\n",
    "z = z.astype('f')\n",
    "lung_175.shape\n",
    "print(x)\n",
    "print(y)\n",
    "print(z)"
   ]
  },
  {
   "cell_type": "code",
   "execution_count": 370,
   "metadata": {},
   "outputs": [
    {
     "data": {
      "application/vnd.jupyter.widget-view+json": {
       "model_id": "fb302551b6834e8babc371144199aa1e",
       "version_major": 2,
       "version_minor": 0
      },
      "text/plain": [
       "VBox(children=(VBox(children=(HBox(children=(Label(value='levels:'), FloatSlider(value=0.07, max=1.0, step=0.0…"
      ]
     },
     "metadata": {},
     "output_type": "display_data"
    }
   ],
   "source": [
    "show_vol_pts(lung_175, z, y, x, 'red')"
   ]
  },
  {
   "cell_type": "code",
   "execution_count": 362,
   "metadata": {},
   "outputs": [
    {
     "data": {
      "application/vnd.jupyter.widget-view+json": {
       "model_id": "d574559bd57847b0943c565b7c12bd36",
       "version_major": 2,
       "version_minor": 0
      },
      "text/plain": [
       "Output()"
      ]
     },
     "metadata": {},
     "output_type": "display_data"
    }
   ],
   "source": [
    "def set_view(figure, framenr, fraction):\n",
    "    ipv.view(90, fraction*360)\n",
    "ipv.movie('/home/butlera/Projects/HuBMAP/2019-12-05_Hackathon/d175R_landmarks.gif', set_view, fps=20, frames=160)"
   ]
  },
  {
   "cell_type": "code",
   "execution_count": null,
   "metadata": {},
   "outputs": [],
   "source": []
  }
 ],
 "metadata": {
  "kernelspec": {
   "display_name": "Python 3",
   "language": "python",
   "name": "python3"
  },
  "language_info": {
   "codemirror_mode": {
    "name": "ipython",
    "version": 3
   },
   "file_extension": ".py",
   "mimetype": "text/x-python",
   "name": "python",
   "nbconvert_exporter": "python",
   "pygments_lexer": "ipython3",
   "version": "3.7.4"
  }
 },
 "nbformat": 4,
 "nbformat_minor": 2
}
